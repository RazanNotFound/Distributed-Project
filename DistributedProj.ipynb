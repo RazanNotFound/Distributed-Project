{
  "nbformat": 4,
  "nbformat_minor": 0,
  "metadata": {
    "colab": {
      "provenance": [],
      "authorship_tag": "ABX9TyOV3UkBnq11mlLyuI5VLBkS",
      "include_colab_link": true
    },
    "kernelspec": {
      "name": "python3",
      "display_name": "Python 3"
    },
    "language_info": {
      "name": "python"
    }
  },
  "cells": [
    {
      "cell_type": "markdown",
      "metadata": {
        "id": "view-in-github",
        "colab_type": "text"
      },
      "source": [
        "<a href=\"https://colab.research.google.com/github/RazanNotFound/Distributed-Project/blob/main/DistributedProj.ipynb\" target=\"_parent\"><img src=\"https://colab.research.google.com/assets/colab-badge.svg\" alt=\"Open In Colab\"/></a>"
      ]
    },
    {
      "cell_type": "code",
      "execution_count": null,
      "metadata": {
        "colab": {
          "base_uri": "https://localhost:8080/"
        },
        "id": "HHDMrDGovmIh",
        "outputId": "7620d77d-c3ca-4885-c3f2-5adedf4b5917"
      },
      "outputs": [
        {
          "output_type": "stream",
          "name": "stdout",
          "text": [
            "Requirement already satisfied: pyspark in /usr/local/lib/python3.11/dist-packages (3.5.5)\n",
            "Requirement already satisfied: py4j==0.10.9.7 in /usr/local/lib/python3.11/dist-packages (from pyspark) (0.10.9.7)\n"
          ]
        }
      ],
      "source": [
        "pip install pyspark"
      ]
    },
    {
      "cell_type": "code",
      "source": [
        "from pyspark.sql import SparkSession\n",
        "spark = SparkSession.builder.appName(\"CourseAverageGrade\").getOrCreate()\n",
        "sc = spark.sparkContext\n",
        "\n",
        "file_path = \"coursegrades.txt\"\n",
        "rdd = sc.textFile(file_path)\n",
        "\n",
        "def mapper(line):\n",
        "    fields = line.split(\",\")\n",
        "    course_name = fields[1].strip()\n",
        "    grade = int(fields[2].strip())\n",
        "    return (course_name, grade)\n",
        "\n",
        "mapped_rdd = rdd.map(mapper)\n",
        "\n",
        "def reducer(values):\n",
        "    total = sum(values)\n",
        "    count = len(values)\n",
        "    return total / count\n",
        "\n",
        "reduced_rdd = mapped_rdd.groupByKey().mapValues(reducer)\n",
        "\n",
        "for course, avg_grade in reduced_rdd.collect():\n",
        "    print(course, avg_grade)\n",
        "\n",
        "spark.stop()"
      ],
      "metadata": {
        "colab": {
          "base_uri": "https://localhost:8080/"
        },
        "id": "8Vl2FqqXv2vC",
        "outputId": "be08809e-a33d-4d89-8170-b534387cddea"
      },
      "execution_count": null,
      "outputs": [
        {
          "output_type": "stream",
          "name": "stdout",
          "text": [
            "Data Structures 81.45341614906832\n",
            "Machine Learning 79.43125\n",
            "Artificial Intelligence 79.31012658227849\n",
            "Cyber Security 78.58333333333333\n",
            "Software Engineering 78.08695652173913\n",
            "Computer Vision 79.73958333333333\n"
          ]
        }
      ]
    },
    {
      "cell_type": "code",
      "source": [
        "from pyspark.sql import SparkSession\n",
        "spark = SparkSession.builder.appName(\"UniversityAverageGrade\").getOrCreate()\n",
        "sc = spark.sparkContext\n",
        "\n",
        "file_path = \"coursegrades.txt\"\n",
        "rdd = sc.textFile(file_path)\n",
        "\n",
        "def mapper(line):\n",
        "    fields = line.split(\",\")\n",
        "    uni_name = fields[3].strip()\n",
        "    grade = int(fields[2].strip())\n",
        "    return (uni_name, grade)\n",
        "\n",
        "mapped_rdd = rdd.map(mapper)\n",
        "\n",
        "def reducer(values):\n",
        "    total = sum(values)\n",
        "    count = len(values)\n",
        "    return total / count\n",
        "\n",
        "reduced_rdd = mapped_rdd.groupByKey().mapValues(reducer)\n",
        "\n",
        "for university, avg_grade in reduced_rdd.collect():\n",
        "    print(university, avg_grade)\n",
        "\n",
        "spark.stop()"
      ],
      "metadata": {
        "colab": {
          "base_uri": "https://localhost:8080/"
        },
        "id": "PPNkslOV0EDJ",
        "outputId": "17658492-c396-4540-9231-96605bbd49fa"
      },
      "execution_count": null,
      "outputs": [
        {
          "output_type": "stream",
          "name": "stdout",
          "text": [
            "Stanford University 79.87647058823529\n",
            "UC Berkeley 78.11242603550296\n",
            "Oxford University 79.32558139534883\n",
            "Cambridge University 79.44808743169399\n",
            "MIT 81.08904109589041\n",
            "Harvard University 78.975\n"
          ]
        }
      ]
    }
  ]
}