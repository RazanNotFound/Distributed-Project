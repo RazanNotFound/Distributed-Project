{
  "nbformat": 4,
  "nbformat_minor": 0,
  "metadata": {
    "colab": {
      "provenance": [],
      "authorship_tag": "ABX9TyO0u35J/cbNhC2Wh6/9Xj9G",
      "include_colab_link": true
    },
    "kernelspec": {
      "name": "python3",
      "display_name": "Python 3"
    },
    "language_info": {
      "name": "python"
    }
  },
  "cells": [
    {
      "cell_type": "markdown",
      "metadata": {
        "id": "view-in-github",
        "colab_type": "text"
      },
      "source": [
        "<a href=\"https://colab.research.google.com/github/RazanNotFound/Distributed-Project/blob/main/DistributedProj.ipynb\" target=\"_parent\"><img src=\"https://colab.research.google.com/assets/colab-badge.svg\" alt=\"Open In Colab\"/></a>"
      ]
    },
    {
      "cell_type": "code",
      "execution_count": 1,
      "metadata": {
        "colab": {
          "base_uri": "https://localhost:8080/"
        },
        "id": "HHDMrDGovmIh",
        "outputId": "a67f2b57-e482-4888-86a6-45c898aea5eb"
      },
      "outputs": [
        {
          "output_type": "stream",
          "name": "stdout",
          "text": [
            "Requirement already satisfied: pyspark in /usr/local/lib/python3.11/dist-packages (3.5.5)\n",
            "Requirement already satisfied: py4j==0.10.9.7 in /usr/local/lib/python3.11/dist-packages (from pyspark) (0.10.9.7)\n"
          ]
        }
      ],
      "source": [
        "pip install pyspark"
      ]
    },
    {
      "cell_type": "code",
      "source": [
        "from pyspark.sql import SparkSession\n",
        "spark = SparkSession.builder.appName(\"CourseAverageGrade\").getOrCreate()\n",
        "sc = spark.sparkContext\n",
        "\n",
        "file_path = \"coursegrades.txt\"\n",
        "rdd = sc.textFile(file_path)\n",
        "\n",
        "def mapper(line):\n",
        "    fields = line.split(\",\")\n",
        "    course_name = fields[1].strip()\n",
        "    grade = int(fields[2].strip())\n",
        "    return (course_name, grade)\n",
        "\n",
        "mapped_rdd = rdd.map(mapper)\n",
        "\n",
        "def reducer(values):\n",
        "    total = sum(values)\n",
        "    count = len(values)\n",
        "    return total / count\n",
        "\n",
        "reduced_rdd = mapped_rdd.groupByKey().mapValues(reducer)\n",
        "\n",
        "for course, avg_grade in reduced_rdd.collect():\n",
        "    print(course, avg_grade)\n",
        "\n",
        "spark.stop()"
      ],
      "metadata": {
        "colab": {
          "base_uri": "https://localhost:8080/"
        },
        "id": "8Vl2FqqXv2vC",
        "outputId": "d92f18a1-ea86-4892-ad2b-5f251f852f16"
      },
      "execution_count": 5,
      "outputs": [
        {
          "output_type": "stream",
          "name": "stdout",
          "text": [
            "Data Structures 81.45341614906832\n",
            "Machine Learning 79.43125\n",
            "Artificial Intelligence 79.31012658227849\n",
            "Cyber Security 78.58333333333333\n",
            "Software Engineering 78.08695652173913\n",
            "Computer Vision 79.73958333333333\n"
          ]
        }
      ]
    },
    {
      "cell_type": "code",
      "source": [
        "from pyspark.sql import SparkSession\n",
        "spark = SparkSession.builder.appName(\"UniversityAverageGrade\").getOrCreate()\n",
        "sc = spark.sparkContext\n",
        "\n",
        "file_path = \"coursegrades.txt\"\n",
        "rdd = sc.textFile(file_path)\n",
        "\n",
        "def mapper(line):\n",
        "    fields = line.split(\",\")\n",
        "    uni_name = fields[3].strip()\n",
        "    grade = int(fields[2].strip())\n",
        "    return (uni_name, grade)\n",
        "\n",
        "mapped_rdd = rdd.map(mapper)\n",
        "\n",
        "def reducer(values):\n",
        "    total = sum(values)\n",
        "    count = len(values)\n",
        "    return total / count\n",
        "\n",
        "reduced_rdd = mapped_rdd.groupByKey().mapValues(reducer)\n",
        "\n",
        "for university, avg_grade in reduced_rdd.collect():\n",
        "    print(university, avg_grade)\n",
        "\n",
        "spark.stop()"
      ],
      "metadata": {
        "colab": {
          "base_uri": "https://localhost:8080/"
        },
        "id": "PPNkslOV0EDJ",
        "outputId": "7aaf2a60-7935-4da2-dc08-cbbbd79c4220"
      },
      "execution_count": 3,
      "outputs": [
        {
          "output_type": "stream",
          "name": "stdout",
          "text": [
            "Stanford University 79.87647058823529\n",
            "UC Berkeley 78.11242603550296\n",
            "Oxford University 79.32558139534883\n",
            "Cambridge University 79.44808743169399\n",
            "MIT 81.08904109589041\n",
            "Harvard University 78.975\n"
          ]
        }
      ]
    },
    {
      "cell_type": "code",
      "source": [
        "from pyspark.sql import SparkSession\n",
        "spark = SparkSession.builder.appName(\"Top3GradesPerYear\").getOrCreate()\n",
        "sc = spark.sparkContext\n",
        "\n",
        "file_path = \"coursegrades.txt\"\n",
        "rdd = sc.textFile(file_path)\n",
        "\n",
        "#mapper function splits the code at every comma\n",
        "def mapper(line):\n",
        "    fields = line.split(\",\")\n",
        "    year = int(fields[0].strip())  #1st column, so fields[0]\n",
        "    grade = int(fields[2].strip()) #3rd column, so fields[2]\n",
        "    return (year, grade) #outputs (year, grade) as key-value pairs\n",
        "\n",
        "mapped_rdd = rdd.map(mapper)\n",
        "\n",
        "#reducer function and sort them and reverse to get the highest first and pick the top 3\n",
        "def reducer(values):\n",
        "    sorted_values = sorted(values, reverse=True)[:3]  #:3333 hehe\n",
        "    return sorted_values\n",
        "\n",
        "reduced_rdd = mapped_rdd.groupByKey().mapValues(reducer)\n",
        "\n",
        "for year, grade in reduced_rdd.collect():\n",
        "    print(year, grade) #prints year and grade\n",
        "\n",
        "spark.stop()"
      ],
      "metadata": {
        "id": "yRSlpvkACpbS",
        "outputId": "2bcfac68-e1c1-49c7-d587-56e72a02064b",
        "colab": {
          "base_uri": "https://localhost:8080/"
        }
      },
      "execution_count": 7,
      "outputs": [
        {
          "output_type": "stream",
          "name": "stdout",
          "text": [
            "2022 [100, 100, 100]\n",
            "2024 [100, 100, 100]\n",
            "2023 [100, 100, 100]\n"
          ]
        }
      ]
    }
  ]
}